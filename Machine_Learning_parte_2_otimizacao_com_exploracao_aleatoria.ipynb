{
  "nbformat": 4,
  "nbformat_minor": 0,
  "metadata": {
    "colab": {
      "provenance": []
    },
    "kernelspec": {
      "name": "python3",
      "display_name": "Python 3"
    },
    "language_info": {
      "name": "python"
    }
  },
  "cells": [
    {
      "cell_type": "markdown",
      "source": [
        "# Machine Learning parte 2: Otimização com exploração aleatória"
      ],
      "metadata": {
        "id": "0pxzagiQkjlg"
      }
    },
    {
      "cell_type": "markdown",
      "source": [
        "* Este estudo é uma continuação do estudo de [ML parte 1: Otimização de modelos através de hiperparâmetros](https://colab.research.google.com/drive/1zkmLyzgb1jqOybg_ZRvQR9_uk0_AIYHr?usp=sharing)."
      ],
      "metadata": {
        "id": "45Mj51oXkpyI"
      }
    },
    {
      "cell_type": "markdown",
      "source": [
        "## Abertura do Dataset"
      ],
      "metadata": {
        "id": "DQ51K43AlJ1t"
      }
    },
    {
      "cell_type": "code",
      "execution_count": 1,
      "metadata": {
        "colab": {
          "base_uri": "https://localhost:8080/",
          "height": 206
        },
        "id": "fcRnh1lVkZ70",
        "outputId": "8590da44-a28c-48ed-a077-13ccd52beb98"
      },
      "outputs": [
        {
          "output_type": "execute_result",
          "data": {
            "text/plain": [
              "       preco  vendido  idade_do_modelo   km_por_ano\n",
              "0   30941.02        1               18  35085.22134\n",
              "1   40557.96        1               20  12622.05362\n",
              "2   89627.50        0               12  11440.79806\n",
              "3   95276.14        0                3  43167.32682\n",
              "4  117384.68        1                4  12770.11290"
            ],
            "text/html": [
              "\n",
              "  <div id=\"df-946a3b5d-ef27-4876-be4b-8f6c721e3f69\">\n",
              "    <div class=\"colab-df-container\">\n",
              "      <div>\n",
              "<style scoped>\n",
              "    .dataframe tbody tr th:only-of-type {\n",
              "        vertical-align: middle;\n",
              "    }\n",
              "\n",
              "    .dataframe tbody tr th {\n",
              "        vertical-align: top;\n",
              "    }\n",
              "\n",
              "    .dataframe thead th {\n",
              "        text-align: right;\n",
              "    }\n",
              "</style>\n",
              "<table border=\"1\" class=\"dataframe\">\n",
              "  <thead>\n",
              "    <tr style=\"text-align: right;\">\n",
              "      <th></th>\n",
              "      <th>preco</th>\n",
              "      <th>vendido</th>\n",
              "      <th>idade_do_modelo</th>\n",
              "      <th>km_por_ano</th>\n",
              "    </tr>\n",
              "  </thead>\n",
              "  <tbody>\n",
              "    <tr>\n",
              "      <th>0</th>\n",
              "      <td>30941.02</td>\n",
              "      <td>1</td>\n",
              "      <td>18</td>\n",
              "      <td>35085.22134</td>\n",
              "    </tr>\n",
              "    <tr>\n",
              "      <th>1</th>\n",
              "      <td>40557.96</td>\n",
              "      <td>1</td>\n",
              "      <td>20</td>\n",
              "      <td>12622.05362</td>\n",
              "    </tr>\n",
              "    <tr>\n",
              "      <th>2</th>\n",
              "      <td>89627.50</td>\n",
              "      <td>0</td>\n",
              "      <td>12</td>\n",
              "      <td>11440.79806</td>\n",
              "    </tr>\n",
              "    <tr>\n",
              "      <th>3</th>\n",
              "      <td>95276.14</td>\n",
              "      <td>0</td>\n",
              "      <td>3</td>\n",
              "      <td>43167.32682</td>\n",
              "    </tr>\n",
              "    <tr>\n",
              "      <th>4</th>\n",
              "      <td>117384.68</td>\n",
              "      <td>1</td>\n",
              "      <td>4</td>\n",
              "      <td>12770.11290</td>\n",
              "    </tr>\n",
              "  </tbody>\n",
              "</table>\n",
              "</div>\n",
              "      <button class=\"colab-df-convert\" onclick=\"convertToInteractive('df-946a3b5d-ef27-4876-be4b-8f6c721e3f69')\"\n",
              "              title=\"Convert this dataframe to an interactive table.\"\n",
              "              style=\"display:none;\">\n",
              "        \n",
              "  <svg xmlns=\"http://www.w3.org/2000/svg\" height=\"24px\"viewBox=\"0 0 24 24\"\n",
              "       width=\"24px\">\n",
              "    <path d=\"M0 0h24v24H0V0z\" fill=\"none\"/>\n",
              "    <path d=\"M18.56 5.44l.94 2.06.94-2.06 2.06-.94-2.06-.94-.94-2.06-.94 2.06-2.06.94zm-11 1L8.5 8.5l.94-2.06 2.06-.94-2.06-.94L8.5 2.5l-.94 2.06-2.06.94zm10 10l.94 2.06.94-2.06 2.06-.94-2.06-.94-.94-2.06-.94 2.06-2.06.94z\"/><path d=\"M17.41 7.96l-1.37-1.37c-.4-.4-.92-.59-1.43-.59-.52 0-1.04.2-1.43.59L10.3 9.45l-7.72 7.72c-.78.78-.78 2.05 0 2.83L4 21.41c.39.39.9.59 1.41.59.51 0 1.02-.2 1.41-.59l7.78-7.78 2.81-2.81c.8-.78.8-2.07 0-2.86zM5.41 20L4 18.59l7.72-7.72 1.47 1.35L5.41 20z\"/>\n",
              "  </svg>\n",
              "      </button>\n",
              "      \n",
              "  <style>\n",
              "    .colab-df-container {\n",
              "      display:flex;\n",
              "      flex-wrap:wrap;\n",
              "      gap: 12px;\n",
              "    }\n",
              "\n",
              "    .colab-df-convert {\n",
              "      background-color: #E8F0FE;\n",
              "      border: none;\n",
              "      border-radius: 50%;\n",
              "      cursor: pointer;\n",
              "      display: none;\n",
              "      fill: #1967D2;\n",
              "      height: 32px;\n",
              "      padding: 0 0 0 0;\n",
              "      width: 32px;\n",
              "    }\n",
              "\n",
              "    .colab-df-convert:hover {\n",
              "      background-color: #E2EBFA;\n",
              "      box-shadow: 0px 1px 2px rgba(60, 64, 67, 0.3), 0px 1px 3px 1px rgba(60, 64, 67, 0.15);\n",
              "      fill: #174EA6;\n",
              "    }\n",
              "\n",
              "    [theme=dark] .colab-df-convert {\n",
              "      background-color: #3B4455;\n",
              "      fill: #D2E3FC;\n",
              "    }\n",
              "\n",
              "    [theme=dark] .colab-df-convert:hover {\n",
              "      background-color: #434B5C;\n",
              "      box-shadow: 0px 1px 3px 1px rgba(0, 0, 0, 0.15);\n",
              "      filter: drop-shadow(0px 1px 2px rgba(0, 0, 0, 0.3));\n",
              "      fill: #FFFFFF;\n",
              "    }\n",
              "  </style>\n",
              "\n",
              "      <script>\n",
              "        const buttonEl =\n",
              "          document.querySelector('#df-946a3b5d-ef27-4876-be4b-8f6c721e3f69 button.colab-df-convert');\n",
              "        buttonEl.style.display =\n",
              "          google.colab.kernel.accessAllowed ? 'block' : 'none';\n",
              "\n",
              "        async function convertToInteractive(key) {\n",
              "          const element = document.querySelector('#df-946a3b5d-ef27-4876-be4b-8f6c721e3f69');\n",
              "          const dataTable =\n",
              "            await google.colab.kernel.invokeFunction('convertToInteractive',\n",
              "                                                     [key], {});\n",
              "          if (!dataTable) return;\n",
              "\n",
              "          const docLinkHtml = 'Like what you see? Visit the ' +\n",
              "            '<a target=\"_blank\" href=https://colab.research.google.com/notebooks/data_table.ipynb>data table notebook</a>'\n",
              "            + ' to learn more about interactive tables.';\n",
              "          element.innerHTML = '';\n",
              "          dataTable['output_type'] = 'display_data';\n",
              "          await google.colab.output.renderOutput(dataTable, element);\n",
              "          const docLink = document.createElement('div');\n",
              "          docLink.innerHTML = docLinkHtml;\n",
              "          element.appendChild(docLink);\n",
              "        }\n",
              "      </script>\n",
              "    </div>\n",
              "  </div>\n",
              "  "
            ]
          },
          "metadata": {},
          "execution_count": 1
        }
      ],
      "source": [
        "import pandas as pd\n",
        "\n",
        "uri = \"https://gist.githubusercontent.com/guilhermesilveira/e99a526b2e7ccc6c3b70f53db43a87d2/raw/1605fc74aa778066bf2e6695e24d53cf65f2f447/machine-learning-carros-simulacao.csv\"\n",
        "dados = pd.read_csv(uri).drop(columns=[\"Unnamed: 0\"], axis=1)\n",
        "dados.head()"
      ]
    },
    {
      "cell_type": "code",
      "source": [
        "# simulação de uma péssima organização dos dados\n",
        "dados_azar = dados.sort_values('vendido', ascending = True)\n",
        "x_azar = dados_azar[['preco', 'idade_do_modelo', 'km_por_ano']]\n",
        "y_azar = dados_azar['vendido']"
      ],
      "metadata": {
        "id": "EHRXfqgTkjIY"
      },
      "execution_count": 2,
      "outputs": []
    },
    {
      "cell_type": "markdown",
      "source": [
        "# Busca aleatória (Randomized Search CV)"
      ],
      "metadata": {
        "id": "kAI3SK80mR6p"
      }
    },
    {
      "cell_type": "markdown",
      "source": [
        "* Define-se um espaço de parâmetros e uma quantidade de iterações que o algoritmo deve executar, menor do que o espaço completo.\n",
        "\n",
        "* A exploração é feita a quantidade de vezes definida, portanto nem todo o espaço será explorado, reduzindo o custo do processo.\n",
        "\n",
        "* Como definido no código abaixo, o espaço de busca resulta em, no máximo, 32 variações de modelo. Como a escolha será aleatória, nem todos serão explorados."
      ],
      "metadata": {
        "id": "ep93muZanmo-"
      }
    },
    {
      "cell_type": "code",
      "source": [
        "import numpy as np\n",
        "from sklearn.tree import DecisionTreeClassifier\n",
        "from sklearn.model_selection import RandomizedSearchCV, KFold\n",
        "\n",
        "SEED = 301\n",
        "np.random.seed(SEED)\n",
        "\n",
        "espaco_de_parametros = { \n",
        "    \"max_depth\" : [3, 5],\n",
        "    \"min_samples_split\": [32, 64, 128],\n",
        "    \"min_samples_leaf\": [32, 64, 128],\n",
        "    \"criterion\": [\"gini\", \"entropy\"]\n",
        "}\n",
        "\n",
        "busca = RandomizedSearchCV(DecisionTreeClassifier(),\n",
        "                    espaco_de_parametros,\n",
        "                    cv = KFold(n_splits = 5, shuffle=True),\n",
        "                    random_state = SEED,\n",
        "                    n_iter = 16) # apenas 16 variações serão exploradas, ao invés de 36\n",
        "\n",
        "busca.fit(x_azar, y_azar)\n",
        "resultados = pd.DataFrame(busca.cv_results_)"
      ],
      "metadata": {
        "id": "qPzHSp4XkkV2"
      },
      "execution_count": 3,
      "outputs": []
    },
    {
      "cell_type": "markdown",
      "source": [
        "* O treino foi feito com cross-validation, então a validação será da mesma forma."
      ],
      "metadata": {
        "id": "J1_HBzb7oSdB"
      }
    },
    {
      "cell_type": "code",
      "source": [
        "def imprime_score(scores):\n",
        "  media = scores.mean()\n",
        "  desvio_padrao = scores.std()\n",
        "\n",
        "  print(f'Accuracy mean = {media*100:.2f}%')\n",
        "  print(f'Accuracy interval = [{(media - 2*desvio_padrao)*100 :.2f}%, {(media + 2*desvio_padrao)*100 :.2f}%]')"
      ],
      "metadata": {
        "id": "SnKvHthComWT"
      },
      "execution_count": 4,
      "outputs": []
    },
    {
      "cell_type": "code",
      "source": [
        "from sklearn.model_selection import cross_val_score\n",
        "\n",
        "scores = cross_val_score(busca, x_azar, y_azar, cv = KFold(n_splits=5, shuffle=True))"
      ],
      "metadata": {
        "id": "WO7mWELhn6S0"
      },
      "execution_count": 5,
      "outputs": []
    },
    {
      "cell_type": "code",
      "source": [
        "imprime_score(scores)"
      ],
      "metadata": {
        "colab": {
          "base_uri": "https://localhost:8080/"
        },
        "id": "yGpf4PJ2oPXc",
        "outputId": "258c2ab1-509b-4d26-e4f2-ff1477d85df3"
      },
      "execution_count": 6,
      "outputs": [
        {
          "output_type": "stream",
          "name": "stdout",
          "text": [
            "Accuracy mean = 78.71%\n",
            "Accuracy interval = [77.49%, 79.93%]\n"
          ]
        }
      ]
    },
    {
      "cell_type": "code",
      "source": [
        "melhor = busca.best_estimator_\n",
        "print(melhor)"
      ],
      "metadata": {
        "colab": {
          "base_uri": "https://localhost:8080/"
        },
        "id": "OxspRq0HpF1s",
        "outputId": "5d718565-784d-437d-a67e-3cfead7f31a1"
      },
      "execution_count": 7,
      "outputs": [
        {
          "output_type": "stream",
          "name": "stdout",
          "text": [
            "DecisionTreeClassifier(max_depth=3, min_samples_leaf=32, min_samples_split=64)\n"
          ]
        }
      ]
    },
    {
      "cell_type": "markdown",
      "source": [
        "* O estimador encontrado pela busca aleatória foi semelhante ao encontrado no estudo anterior, com uma diferença no min_samples_split.\n",
        "\n",
        "* O tempo gasto para encontrar esta solução foi muito menor, apesar a diferença pequena."
      ],
      "metadata": {
        "id": "lKVol4NBqbuH"
      }
    },
    {
      "cell_type": "markdown",
      "source": [
        "## Espaço de parâmetros mais abrangente"
      ],
      "metadata": {
        "id": "N1Cr6m-vtaRG"
      }
    },
    {
      "cell_type": "code",
      "source": [
        "from scipy.stats import randint\n",
        "\n",
        "SEED = 301\n",
        "np.random.seed(SEED)\n",
        "\n",
        "espaco_de_parametros = { \n",
        "    \"max_depth\" : [3, 5, 10, 15, 20, 30, None],\n",
        "    \"min_samples_split\": randint(32, 129), # vai gerando números aleatórios à medida que são requisitados\n",
        "    \"min_samples_leaf\": randint(32, 129),  # não apenas uma única vez\n",
        "    \"criterion\": [\"gini\", \"entropy\"]\n",
        "}\n",
        "\n",
        "busca = RandomizedSearchCV(DecisionTreeClassifier(),\n",
        "                    espaco_de_parametros,\n",
        "                    cv = KFold(n_splits = 5, shuffle=True),\n",
        "                    random_state = SEED,\n",
        "                    n_iter = 16) # apenas 16 variações serão exploradas, ao invés de 36\n",
        "\n",
        "busca.fit(x_azar, y_azar)\n",
        "resultados = pd.DataFrame(busca.cv_results_)"
      ],
      "metadata": {
        "id": "kYsENWODp4pT"
      },
      "execution_count": 16,
      "outputs": []
    },
    {
      "cell_type": "code",
      "source": [
        "scores = cross_val_score(busca, x_azar, y_azar, cv = KFold(n_splits=5, shuffle=True))\n",
        "imprime_score(scores)"
      ],
      "metadata": {
        "colab": {
          "base_uri": "https://localhost:8080/"
        },
        "id": "06SKMDWxvDmL",
        "outputId": "7277b391-024a-4b97-d5c0-9d3fe094f222"
      },
      "execution_count": 17,
      "outputs": [
        {
          "output_type": "stream",
          "name": "stdout",
          "text": [
            "Accuracy mean = 78.71%\n",
            "Accuracy interval = [77.49%, 79.93%]\n"
          ]
        }
      ]
    },
    {
      "cell_type": "code",
      "source": [
        "melhor = busca.best_estimator_\n",
        "print(melhor)"
      ],
      "metadata": {
        "colab": {
          "base_uri": "https://localhost:8080/"
        },
        "id": "BB6Q6x7DvLni",
        "outputId": "99b3f396-aacc-44f2-b2a8-d2e42f7215a7"
      },
      "execution_count": 10,
      "outputs": [
        {
          "output_type": "stream",
          "name": "stdout",
          "text": [
            "DecisionTreeClassifier(criterion='entropy', max_depth=3, min_samples_leaf=71,\n",
            "                       min_samples_split=100)\n"
          ]
        }
      ]
    },
    {
      "cell_type": "markdown",
      "source": [
        "* A acurácia média foi um pouco maior e o intervalo mais afunilado, em comparação com o estimador anterior.\n",
        "\n",
        "* Somente um hiperparâmetro permaneceu, a profundidade máxima 3."
      ],
      "metadata": {
        "id": "Twh5vJJBvWCC"
      }
    },
    {
      "cell_type": "markdown",
      "source": [
        "## Análise por Score médio"
      ],
      "metadata": {
        "id": "zUfRx8oT6fo0"
      }
    },
    {
      "cell_type": "code",
      "source": [
        "resultados_ordenados_pela_media = resultados.sort_values('mean_test_score', ascending = False)\n",
        "\n",
        "for indice, linha in resultados_ordenados_pela_media.iterrows():\n",
        "  mts = linha['mean_test_score']\n",
        "  sts = linha['std_test_score']\n",
        "  params = linha['params']\n",
        "  print(f'{mts:.4f} \\t +/- {sts*2:.4f} \\t {params}')"
      ],
      "metadata": {
        "colab": {
          "base_uri": "https://localhost:8080/"
        },
        "id": "2Vw6pEtXvO6a",
        "outputId": "d1a7e4b9-a120-4b90-cd7b-a5351e8abc94"
      },
      "execution_count": 24,
      "outputs": [
        {
          "output_type": "stream",
          "name": "stdout",
          "text": [
            "0.7870 \t +/- 0.0192 \t {'criterion': 'entropy', 'max_depth': 3, 'min_samples_leaf': 71, 'min_samples_split': 100}\n",
            "0.7839 \t +/- 0.0237 \t {'criterion': 'entropy', 'max_depth': 5, 'min_samples_leaf': 73, 'min_samples_split': 72}\n",
            "0.7839 \t +/- 0.0237 \t {'criterion': 'gini', 'max_depth': 5, 'min_samples_leaf': 64, 'min_samples_split': 67}\n",
            "0.7810 \t +/- 0.0167 \t {'criterion': 'gini', 'max_depth': 10, 'min_samples_leaf': 108, 'min_samples_split': 110}\n",
            "0.7804 \t +/- 0.0194 \t {'criterion': 'gini', 'max_depth': 10, 'min_samples_leaf': 125, 'min_samples_split': 59}\n",
            "0.7799 \t +/- 0.0124 \t {'criterion': 'gini', 'max_depth': 15, 'min_samples_leaf': 103, 'min_samples_split': 96}\n",
            "0.7794 \t +/- 0.0208 \t {'criterion': 'gini', 'max_depth': 15, 'min_samples_leaf': 126, 'min_samples_split': 84}\n",
            "0.7793 \t +/- 0.0204 \t {'criterion': 'gini', 'max_depth': 20, 'min_samples_leaf': 124, 'min_samples_split': 88}\n",
            "0.7792 \t +/- 0.0093 \t {'criterion': 'gini', 'max_depth': None, 'min_samples_leaf': 101, 'min_samples_split': 52}\n",
            "0.7791 \t +/- 0.0135 \t {'criterion': 'entropy', 'max_depth': 15, 'min_samples_leaf': 104, 'min_samples_split': 88}\n",
            "0.7789 \t +/- 0.0098 \t {'criterion': 'gini', 'max_depth': 30, 'min_samples_leaf': 100, 'min_samples_split': 84}\n",
            "0.7782 \t +/- 0.0139 \t {'criterion': 'entropy', 'max_depth': 30, 'min_samples_leaf': 74, 'min_samples_split': 58}\n",
            "0.7774 \t +/- 0.0129 \t {'criterion': 'gini', 'max_depth': 30, 'min_samples_leaf': 88, 'min_samples_split': 78}\n",
            "0.7765 \t +/- 0.0088 \t {'criterion': 'gini', 'max_depth': 15, 'min_samples_leaf': 93, 'min_samples_split': 111}\n",
            "0.7747 \t +/- 0.0149 \t {'criterion': 'entropy', 'max_depth': 20, 'min_samples_leaf': 52, 'min_samples_split': 80}\n",
            "0.7685 \t +/- 0.0208 \t {'criterion': 'gini', 'max_depth': None, 'min_samples_leaf': 46, 'min_samples_split': 62}\n"
          ]
        }
      ]
    },
    {
      "cell_type": "markdown",
      "source": [
        "## Aumento na quantidade de iterações"
      ],
      "metadata": {
        "id": "JQexz8za-f-q"
      }
    },
    {
      "cell_type": "code",
      "source": [
        "SEED = 301\n",
        "np.random.seed(SEED)\n",
        "\n",
        "espaco_de_parametros = { \n",
        "    \"max_depth\" : [3, 5, 10, 15, 20, 30, None],\n",
        "    \"min_samples_split\": randint(32, 129), \n",
        "    \"min_samples_leaf\": randint(32, 129), \n",
        "    \"criterion\": [\"gini\", \"entropy\"]\n",
        "}\n",
        "\n",
        "busca = RandomizedSearchCV(DecisionTreeClassifier(),\n",
        "                    espaco_de_parametros,\n",
        "                    cv = KFold(n_splits = 5, shuffle=True),\n",
        "                    random_state = SEED,\n",
        "                    n_iter = 32)\n",
        "\n",
        "busca.fit(x_azar, y_azar)\n",
        "resultados = pd.DataFrame(busca.cv_results_)"
      ],
      "metadata": {
        "id": "JnrV9plK61L4"
      },
      "execution_count": 25,
      "outputs": []
    },
    {
      "cell_type": "code",
      "source": [
        "resultados_ordenados_pela_media = resultados.sort_values('mean_test_score', ascending = False)\n",
        "\n",
        "for indice, linha in resultados_ordenados_pela_media[:5].iterrows():\n",
        "  mts = linha['mean_test_score']\n",
        "  sts = linha['std_test_score']\n",
        "  params = linha['params']\n",
        "  print(f'{mts:.4f} \\t +/- {sts*2:.4f} \\t {params}')"
      ],
      "metadata": {
        "colab": {
          "base_uri": "https://localhost:8080/"
        },
        "id": "pIiaI4yr-xoA",
        "outputId": "d9a58f62-ac5e-455f-e6f9-fea2b95d3db3"
      },
      "execution_count": 34,
      "outputs": [
        {
          "output_type": "stream",
          "name": "stdout",
          "text": [
            "0.7801 \t +/- 0.0203 \t {'bootstrap': False, 'criterion': 'gini', 'max_depth': 5, 'min_samples_leaf': 32, 'min_samples_split': 64, 'n_estimators': 10}\n",
            "0.7784 \t +/- 0.0202 \t {'bootstrap': True, 'criterion': 'gini', 'max_depth': 5, 'min_samples_leaf': 32, 'min_samples_split': 128, 'n_estimators': 10}\n",
            "0.7782 \t +/- 0.0300 \t {'bootstrap': False, 'criterion': 'entropy', 'max_depth': 5, 'min_samples_leaf': 64, 'min_samples_split': 64, 'n_estimators': 10}\n",
            "0.7779 \t +/- 0.0271 \t {'bootstrap': False, 'criterion': 'gini', 'max_depth': 5, 'min_samples_leaf': 64, 'min_samples_split': 64, 'n_estimators': 10}\n",
            "0.7776 \t +/- 0.0332 \t {'bootstrap': False, 'criterion': 'entropy', 'max_depth': 5, 'min_samples_leaf': 64, 'min_samples_split': 64, 'n_estimators': 100}\n"
          ]
        }
      ]
    },
    {
      "cell_type": "markdown",
      "source": [
        "* Apesar do aumento na quantidade de iterações, o melhor resultado encontrado foi exatamente o mesmo do anterior, com 16 iterações."
      ],
      "metadata": {
        "id": "sHo8uag5_HNo"
      }
    },
    {
      "cell_type": "markdown",
      "source": [
        "# Comparando GridSearchCV com o RandomizedSearch"
      ],
      "metadata": {
        "id": "u8RTC3J8BNKR"
      }
    },
    {
      "cell_type": "markdown",
      "source": [
        "* O GridSearch traz mais certeza da análise sobre um espaço de parâmetros, mas o RandomizedSearch traz muito mais controle sobre o custo computacional.\n",
        "\n",
        "* A partir deste ponto, será usado o RandomTreeClassifier nos modelos.\n",
        "  * https://scikit-learn.org/stable/modules/generated/sklearn.ensemble.RandomForestClassifier.html"
      ],
      "metadata": {
        "id": "D1et6chsBWdG"
      }
    },
    {
      "cell_type": "markdown",
      "source": [
        "### Grid Search"
      ],
      "metadata": {
        "id": "9i8esun5Lb0L"
      }
    },
    {
      "cell_type": "code",
      "source": [
        "from sklearn.model_selection import GridSearchCV\n",
        "from sklearn.ensemble import RandomForestClassifier\n",
        "import time\n",
        "\n",
        "SEED=301\n",
        "np.random.seed(SEED)\n",
        "\n",
        "espaco_de_parametros = { # 144 combinações de parâmetros\n",
        "    \"max_depth\" : [3, 5],\n",
        "    \"min_samples_split\" : [32, 64, 128],\n",
        "    \"min_samples_leaf\" : [32, 64, 128],\n",
        "    \"criterion\" : [\"gini\", \"entropy\"],\n",
        "    \"n_estimators\" : [10, 100], # Quantas árvores serão criadas\n",
        "    \"bootstrap\" : [True, False]\n",
        "}\n",
        "\n",
        "init_time = time.time()\n",
        "busca = GridSearchCV(RandomForestClassifier(),\n",
        "                    espaco_de_parametros,\n",
        "                    cv = KFold(n_splits = 5, shuffle=True))\n",
        "\n",
        "busca.fit(x_azar, y_azar)\n",
        "end_time = time.time()\n",
        "tempo = end_time - init_time\n",
        "\n",
        "resultados = pd.DataFrame(busca.cv_results_)"
      ],
      "metadata": {
        "id": "UfK9C-Q7_bdG"
      },
      "execution_count": 29,
      "outputs": []
    },
    {
      "cell_type": "code",
      "source": [
        "print(f'Tempo decorrido: {tempo/60:.1f} minutos\\n')\n",
        "\n",
        "resultados_ordenados_pela_media = resultados.sort_values('mean_test_score', ascending = False)\n",
        "\n",
        "for indice, linha in resultados_ordenados_pela_media[:5].iterrows():\n",
        "  mts = linha['mean_test_score']\n",
        "  sts = linha['std_test_score']\n",
        "  params = linha['params']\n",
        "  print(f'{mts:.4f} \\t +/- {sts*2:.4f} \\t {params}')"
      ],
      "metadata": {
        "colab": {
          "base_uri": "https://localhost:8080/"
        },
        "id": "bkX6EHB4D6kx",
        "outputId": "4a557adc-fd43-4afe-e421-9612ff9422d2"
      },
      "execution_count": 36,
      "outputs": [
        {
          "output_type": "stream",
          "name": "stdout",
          "text": [
            "Tempo decorrido: 4.0 minutos\n",
            "\n",
            "0.7801 \t +/- 0.0203 \t {'bootstrap': False, 'criterion': 'gini', 'max_depth': 5, 'min_samples_leaf': 32, 'min_samples_split': 64, 'n_estimators': 10}\n",
            "0.7784 \t +/- 0.0202 \t {'bootstrap': True, 'criterion': 'gini', 'max_depth': 5, 'min_samples_leaf': 32, 'min_samples_split': 128, 'n_estimators': 10}\n",
            "0.7782 \t +/- 0.0300 \t {'bootstrap': False, 'criterion': 'entropy', 'max_depth': 5, 'min_samples_leaf': 64, 'min_samples_split': 64, 'n_estimators': 10}\n",
            "0.7779 \t +/- 0.0271 \t {'bootstrap': False, 'criterion': 'gini', 'max_depth': 5, 'min_samples_leaf': 64, 'min_samples_split': 64, 'n_estimators': 10}\n",
            "0.7776 \t +/- 0.0332 \t {'bootstrap': False, 'criterion': 'entropy', 'max_depth': 5, 'min_samples_leaf': 64, 'min_samples_split': 64, 'n_estimators': 100}\n"
          ]
        }
      ]
    },
    {
      "cell_type": "markdown",
      "source": [
        "* O tempo de execução das duas células a seguir é longo o suficiente para ser abortado pelo Colab, mas este teste pode ser executado localmente."
      ],
      "metadata": {
        "id": "c9Q3a5L0KHib"
      }
    },
    {
      "cell_type": "code",
      "source": [
        "#init_time = time.time()\n",
        "#scores = cross_val_score(busca, x_azar, y_azar, cv = KFold(n_splits=5, shuffle=True))\n",
        "#end_time = time.time()\n",
        "#tempo = end_time - init_time\n",
        "\n",
        "#print(f'Tempo decorrido: {tempo/60:.1f} minutos\\n')\n",
        "#imprime_score(scores)"
      ],
      "metadata": {
        "id": "3h9BM937EBPc"
      },
      "execution_count": 38,
      "outputs": []
    },
    {
      "cell_type": "code",
      "source": [
        "melhor = busca.best_estimator_\n",
        "print(melhor)"
      ],
      "metadata": {
        "colab": {
          "base_uri": "https://localhost:8080/"
        },
        "id": "ebHIItd1IJK7",
        "outputId": "4f37dea9-dc0b-4a5d-ffd7-757f56a8c266"
      },
      "execution_count": 43,
      "outputs": [
        {
          "output_type": "stream",
          "name": "stdout",
          "text": [
            "RandomForestClassifier(bootstrap=False, max_depth=5, min_samples_leaf=32,\n",
            "                       min_samples_split=32)\n"
          ]
        }
      ]
    },
    {
      "cell_type": "markdown",
      "source": [
        "### Random Forest"
      ],
      "metadata": {
        "id": "rFvDeHy2LfD3"
      }
    },
    {
      "cell_type": "code",
      "source": [
        "SEED=301\n",
        "np.random.seed(SEED)\n",
        "\n",
        "espaco_de_parametros = { # 144 combinações de parâmetros\n",
        "    \"max_depth\" : [3, 5],\n",
        "    \"min_samples_split\" : [32, 64, 128],\n",
        "    \"min_samples_leaf\" : [32, 64, 128],\n",
        "    \"criterion\" : [\"gini\", \"entropy\"],\n",
        "    \"n_estimators\" : [10, 100], # Quantas árvores serão criadas\n",
        "    \"bootstrap\" : [True, False]\n",
        "}\n",
        "\n",
        "init_time = time.time()\n",
        "busca = RandomizedSearchCV(RandomForestClassifier(),\n",
        "                    espaco_de_parametros,\n",
        "                    cv = KFold(n_splits = 5, shuffle=True),\n",
        "                    n_iter = 20)\n",
        "\n",
        "busca.fit(x_azar, y_azar)\n",
        "end_time = time.time()\n",
        "tempo = end_time - init_time\n",
        "\n",
        "resultados = pd.DataFrame(busca.cv_results_)"
      ],
      "metadata": {
        "id": "EK_BoIwrKxF7"
      },
      "execution_count": 40,
      "outputs": []
    },
    {
      "cell_type": "code",
      "source": [
        "print(f'Tempo decorrido: {tempo/60:.1f} minutos\\n')"
      ],
      "metadata": {
        "colab": {
          "base_uri": "https://localhost:8080/"
        },
        "id": "MR2c9s7BMI1l",
        "outputId": "0414a78b-419a-40af-ca04-941367875348"
      },
      "execution_count": 41,
      "outputs": [
        {
          "output_type": "stream",
          "name": "stdout",
          "text": [
            "Tempo decorrido: 0.6 minutos\n",
            "\n"
          ]
        }
      ]
    },
    {
      "cell_type": "markdown",
      "source": [
        "* Tempo decorrido muito menor que com o GridSearch."
      ],
      "metadata": {
        "id": "PB1Uzi21MTVg"
      }
    },
    {
      "cell_type": "code",
      "source": [
        "resultados_ordenados_pela_media = resultados.sort_values('mean_test_score', ascending = False)\n",
        "\n",
        "for indice, linha in resultados_ordenados_pela_media[:5].iterrows():\n",
        "  mts = linha['mean_test_score']\n",
        "  sts = linha['std_test_score']\n",
        "  params = linha['params']\n",
        "  print(f'{mts:.4f} \\t +/- {sts*2:.4f} \\t {params}')"
      ],
      "metadata": {
        "colab": {
          "base_uri": "https://localhost:8080/"
        },
        "id": "kcpylfJbMOny",
        "outputId": "3c84309a-fe35-4947-9f61-4f06b1bfac2b"
      },
      "execution_count": 42,
      "outputs": [
        {
          "output_type": "stream",
          "name": "stdout",
          "text": [
            "0.7761 \t +/- 0.0251 \t {'n_estimators': 100, 'min_samples_split': 32, 'min_samples_leaf': 32, 'max_depth': 5, 'criterion': 'gini', 'bootstrap': False}\n",
            "0.7756 \t +/- 0.0227 \t {'n_estimators': 100, 'min_samples_split': 32, 'min_samples_leaf': 128, 'max_depth': 3, 'criterion': 'gini', 'bootstrap': False}\n",
            "0.7756 \t +/- 0.0238 \t {'n_estimators': 100, 'min_samples_split': 64, 'min_samples_leaf': 32, 'max_depth': 5, 'criterion': 'entropy', 'bootstrap': True}\n",
            "0.7755 \t +/- 0.0320 \t {'n_estimators': 10, 'min_samples_split': 32, 'min_samples_leaf': 64, 'max_depth': 3, 'criterion': 'entropy', 'bootstrap': False}\n",
            "0.7754 \t +/- 0.0346 \t {'n_estimators': 10, 'min_samples_split': 32, 'min_samples_leaf': 32, 'max_depth': 5, 'criterion': 'gini', 'bootstrap': True}\n"
          ]
        }
      ]
    },
    {
      "cell_type": "code",
      "source": [
        "melhor = busca.best_estimator_\n",
        "print(melhor)"
      ],
      "metadata": {
        "colab": {
          "base_uri": "https://localhost:8080/"
        },
        "id": "3ODuKs-4MZKq",
        "outputId": "555e6fd4-2979-4688-dd49-34c93da117ec"
      },
      "execution_count": 44,
      "outputs": [
        {
          "output_type": "stream",
          "name": "stdout",
          "text": [
            "RandomForestClassifier(bootstrap=False, max_depth=5, min_samples_leaf=32,\n",
            "                       min_samples_split=32)\n"
          ]
        }
      ]
    },
    {
      "cell_type": "code",
      "source": [
        "init_time = time.time()\n",
        "scores = cross_val_score(busca, x_azar, y_azar, cv = KFold(n_splits=5, shuffle=True))\n",
        "end_time = time.time()\n",
        "tempo = end_time - init_time\n",
        "\n",
        "print(f'Tempo decorrido: {tempo/60:.1f} minutos\\n')\n",
        "imprime_score(scores)"
      ],
      "metadata": {
        "colab": {
          "base_uri": "https://localhost:8080/"
        },
        "id": "cac0t7akMi96",
        "outputId": "6b3b3390-ee27-4710-f669-e5c2994d8ade"
      },
      "execution_count": 45,
      "outputs": [
        {
          "output_type": "stream",
          "name": "stdout",
          "text": [
            "Tempo decorrido: 2.8 minutos\n",
            "\n",
            "Accuracy mean = 77.59%\n",
            "Accuracy interval = [76.47%, 78.71%]\n"
          ]
        }
      ]
    },
    {
      "cell_type": "markdown",
      "source": [
        "### Random Forest com espaço maior"
      ],
      "metadata": {
        "id": "V34GiNLkNGlM"
      }
    },
    {
      "cell_type": "code",
      "source": [
        "SEED=301\n",
        "np.random.seed(SEED)\n",
        "\n",
        "espaco_de_parametros = { # mais de 10 milhões de combinações de parâmetros\n",
        "    \"max_depth\" : randint(3, 6),\n",
        "    \"min_samples_split\" : randint(32, 129),\n",
        "    \"min_samples_leaf\" : randint(32, 129),\n",
        "    \"criterion\" : [\"gini\", \"entropy\"],\n",
        "    \"n_estimators\" : randint(10, 101),\n",
        "    \"bootstrap\" : [True, False]\n",
        "}\n",
        "\n",
        "init_time = time.time()\n",
        "busca = RandomizedSearchCV(RandomForestClassifier(),\n",
        "                    espaco_de_parametros,\n",
        "                    cv = KFold(n_splits = 5, shuffle=True),\n",
        "                    n_iter = 80)\n",
        "\n",
        "busca.fit(x_azar, y_azar)\n",
        "end_time = time.time()\n",
        "tempo = end_time - init_time\n",
        "\n",
        "resultados = pd.DataFrame(busca.cv_results_)"
      ],
      "metadata": {
        "id": "j9vN2o2bMvyq"
      },
      "execution_count": 47,
      "outputs": []
    },
    {
      "cell_type": "code",
      "source": [
        "print(f'Tempo decorrido: {tempo/60:.1f} minutos\\n')"
      ],
      "metadata": {
        "colab": {
          "base_uri": "https://localhost:8080/"
        },
        "id": "xdhZeAH7Nn5z",
        "outputId": "5d657ea7-ea76-4050-bd4e-89e96d82c5a4"
      },
      "execution_count": 48,
      "outputs": [
        {
          "output_type": "stream",
          "name": "stdout",
          "text": [
            "Tempo decorrido: 2.1 minutos\n",
            "\n"
          ]
        }
      ]
    },
    {
      "cell_type": "code",
      "source": [
        "resultados_ordenados_pela_media = resultados.sort_values('mean_test_score', ascending = False)\n",
        "\n",
        "for indice, linha in resultados_ordenados_pela_media[:5].iterrows():\n",
        "  mts = linha['mean_test_score']\n",
        "  sts = linha['std_test_score']\n",
        "  params = linha['params']\n",
        "  print(f'{mts:.4f} \\t +/- {sts*2:.4f} \\t {params}')"
      ],
      "metadata": {
        "colab": {
          "base_uri": "https://localhost:8080/"
        },
        "id": "f91t5dfJN8l7",
        "outputId": "ebb36b65-6e19-49a4-9cc8-c6109cbda8b7"
      },
      "execution_count": 49,
      "outputs": [
        {
          "output_type": "stream",
          "name": "stdout",
          "text": [
            "0.7790 \t +/- 0.0246 \t {'bootstrap': False, 'criterion': 'entropy', 'max_depth': 5, 'min_samples_leaf': 84, 'min_samples_split': 89, 'n_estimators': 48}\n",
            "0.7785 \t +/- 0.0311 \t {'bootstrap': False, 'criterion': 'entropy', 'max_depth': 5, 'min_samples_leaf': 32, 'min_samples_split': 96, 'n_estimators': 18}\n",
            "0.7779 \t +/- 0.0315 \t {'bootstrap': False, 'criterion': 'entropy', 'max_depth': 4, 'min_samples_leaf': 121, 'min_samples_split': 47, 'n_estimators': 27}\n",
            "0.7775 \t +/- 0.0238 \t {'bootstrap': False, 'criterion': 'gini', 'max_depth': 4, 'min_samples_leaf': 96, 'min_samples_split': 98, 'n_estimators': 11}\n",
            "0.7771 \t +/- 0.0287 \t {'bootstrap': True, 'criterion': 'gini', 'max_depth': 5, 'min_samples_leaf': 63, 'min_samples_split': 88, 'n_estimators': 69}\n"
          ]
        }
      ]
    },
    {
      "cell_type": "code",
      "source": [
        "melhor = busca.best_estimator_\n",
        "print(melhor)"
      ],
      "metadata": {
        "colab": {
          "base_uri": "https://localhost:8080/"
        },
        "id": "VPXhQuKyOi6i",
        "outputId": "e515ec23-ba9f-48a4-9fd0-8e6b62f93513"
      },
      "execution_count": 50,
      "outputs": [
        {
          "output_type": "stream",
          "name": "stdout",
          "text": [
            "RandomForestClassifier(bootstrap=False, criterion='entropy', max_depth=5,\n",
            "                       min_samples_leaf=84, min_samples_split=89,\n",
            "                       n_estimators=48)\n"
          ]
        }
      ]
    },
    {
      "cell_type": "code",
      "source": [
        "init_time = time.time()\n",
        "scores = cross_val_score(busca, x_azar, y_azar, cv = KFold(n_splits=5, shuffle=True))\n",
        "end_time = time.time()\n",
        "tempo = end_time - init_time\n",
        "\n",
        "print(f'Tempo decorrido: {tempo/60:.1f} minutos\\n')\n",
        "imprime_score(scores)"
      ],
      "metadata": {
        "colab": {
          "base_uri": "https://localhost:8080/"
        },
        "id": "ctXgW6hpOnnK",
        "outputId": "ce577018-8e0b-423d-9439-e2fa0abfa2ec"
      },
      "execution_count": 51,
      "outputs": [
        {
          "output_type": "stream",
          "name": "stdout",
          "text": [
            "Tempo decorrido: 9.2 minutos\n",
            "\n",
            "Accuracy mean = 77.24%\n",
            "Accuracy interval = [75.49%, 78.99%]\n"
          ]
        }
      ]
    },
    {
      "cell_type": "markdown",
      "source": [
        "# Treino, teste, validação - otimização sem validação cruzada"
      ],
      "metadata": {
        "id": "WqEWwRflUlpR"
      }
    },
    {
      "cell_type": "markdown",
      "source": [
        "* Por ser cara computacionalmente, a otimização cruzada pode se tornar inviável em alguns casos.\n",
        "\n",
        "* Netse estudo, pode haver a disisão por 3 fases:\n",
        "  * Fases de **treino** e **teste**, com cross validation\n",
        "  * **Validação**, com nested validation (cross_val_score)\n",
        "\n",
        "* Em vez de utilizar o KFold, pode ser usado o StratifiedShuffleSplit, que fará a divisão preservando a porcentagem que cada classe abrange nos dados dentro se cada subconjunto.\n",
        "  * https://scikit-learn.org/stable/modules/generated/sklearn.model_selection.StratifiedShuffleSplit.html"
      ],
      "metadata": {
        "id": "oMzIPU9-UsOF"
      }
    },
    {
      "cell_type": "code",
      "source": [
        "from sklearn.model_selection import train_test_split\n",
        "\n",
        "SEED=301\n",
        "np.random.seed(SEED)\n",
        "\n",
        "# 60% treino\n",
        "# 20% teste\n",
        "# 20# validação\n",
        "\n",
        "# separando 20% dos dados para validação e 80% que serão treino e teste\n",
        "x_treino_teste, x_validacao, y_treino_teste, y_validacao = train_test_split(x_azar, y_azar, test_size = 0.2, shuffle = True, stratify = y_azar)"
      ],
      "metadata": {
        "id": "B3atjZhUauLx"
      },
      "execution_count": 53,
      "outputs": []
    },
    {
      "cell_type": "code",
      "source": [
        "from sklearn.model_selection import StratifiedShuffleSplit\n",
        "\n",
        "SEED=301\n",
        "np.random.seed(SEED)\n",
        "\n",
        "# 25% dos 80%, que é 20% do total, irá para o conjunto de teste\n",
        "split = StratifiedShuffleSplit(n_splits = 1, test_size = 0.25)\n",
        "\n",
        "espaco_de_parametros = {\n",
        "    \"max_depth\" : randint(3, 6),\n",
        "    \"min_samples_split\" : randint(32, 129),\n",
        "    \"min_samples_leaf\" : randint(32, 129),\n",
        "    \"criterion\" : [\"gini\", \"entropy\"],\n",
        "    \"n_estimators\" : randint(10, 101),\n",
        "    \"bootstrap\" : [True, False]\n",
        "}\n",
        "\n",
        "init_time = time.time()\n",
        "busca = RandomizedSearchCV(RandomForestClassifier(),\n",
        "                    espaco_de_parametros,\n",
        "                    cv = split,\n",
        "                    n_iter = 5)\n",
        "\n",
        "busca.fit(x_treino_teste, y_treino_teste)\n",
        "end_time = time.time()\n",
        "tempo = end_time - init_time\n",
        "\n",
        "resultados = pd.DataFrame(busca.cv_results_)"
      ],
      "metadata": {
        "id": "1HRlXDVeOpsC"
      },
      "execution_count": 54,
      "outputs": []
    },
    {
      "cell_type": "markdown",
      "source": [
        "* Neste caso, a validação deve ser feita com um conjunto de dados que nunca entrou em contato com o modelo, amostras novas. Por isso, a separação de um **conjunto de validação** deve ser feita antes."
      ],
      "metadata": {
        "id": "IgcSU5R5aQ82"
      }
    },
    {
      "cell_type": "code",
      "source": [
        "init_time = time.time()\n",
        "scores = cross_val_score(busca, x_validacao, y_validacao, cv = split)\n",
        "end_time = time.time()\n",
        "tempo = end_time - init_time\n",
        "\n",
        "print(f'Tempo decorrido: {tempo:.6f} segundos\\n')\n",
        "scores"
      ],
      "metadata": {
        "colab": {
          "base_uri": "https://localhost:8080/"
        },
        "id": "E-iYEinMX7Y_",
        "outputId": "9d0b3e39-5bc2-4c20-a2a5-14d7709ae6f5"
      },
      "execution_count": 58,
      "outputs": [
        {
          "output_type": "stream",
          "name": "stdout",
          "text": [
            "Tempo decorrido: 0.822937 segundos\n",
            "\n"
          ]
        },
        {
          "output_type": "execute_result",
          "data": {
            "text/plain": [
              "array([0.76])"
            ]
          },
          "metadata": {},
          "execution_count": 58
        }
      ]
    },
    {
      "cell_type": "markdown",
      "source": [
        "* Há apenas um valor de acurácia porque o teste é feito uma única vez (n_splits = 1).\n",
        "\n",
        "* Aumentando-se o n_splits do StratifiedShuffleSplit o teste ficaria mais parecido com uma validação cruzada, mas as proporções das classes podem ser diferentes. Além disso, o cross_val_score voltaria a demorar mais."
      ],
      "metadata": {
        "id": "9e9k6s_vfrWX"
      }
    }
  ]
}